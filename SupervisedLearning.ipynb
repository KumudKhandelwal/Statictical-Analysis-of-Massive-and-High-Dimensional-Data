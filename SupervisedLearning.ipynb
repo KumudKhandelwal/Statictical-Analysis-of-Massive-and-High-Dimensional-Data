{
 "cells": [
  {
   "cell_type": "markdown",
   "metadata": {},
   "source": [
    "# Classification with KNN\n",
    "\n",
    "using wine27 dataset from MBCbook package"
   ]
  },
  {
   "cell_type": "code",
   "execution_count": 14,
   "metadata": {},
   "outputs": [
    {
     "name": "stderr",
     "output_type": "stream",
     "text": [
      "Warning message:\n",
      "\"package 'MBCbook' is in use and will not be installed\"\n"
     ]
    }
   ],
   "source": [
    "install.packages('MBCbook')"
   ]
  },
  {
   "cell_type": "code",
   "execution_count": 15,
   "metadata": {},
   "outputs": [],
   "source": [
    "warn=0\n",
    "library(MBCbook)\n",
    "warn=1"
   ]
  },
  {
   "cell_type": "code",
   "execution_count": 16,
   "metadata": {},
   "outputs": [],
   "source": [
    "library(class)"
   ]
  },
  {
   "cell_type": "code",
   "execution_count": 17,
   "metadata": {},
   "outputs": [
    {
     "data": {
      "text/html": [
       "<table>\n",
       "<caption>A data.frame: 6 × 29</caption>\n",
       "<thead>\n",
       "\t<tr><th></th><th scope=col>Alcohol</th><th scope=col>Sugar.free_extract</th><th scope=col>Fixed_acidity</th><th scope=col>Tartaric_acid</th><th scope=col>Malic_acid</th><th scope=col>Uronic_acids</th><th scope=col>pH</th><th scope=col>Ash</th><th scope=col>Alcalinity_of_ash</th><th scope=col>Potassium</th><th scope=col>...</th><th scope=col>Hue</th><th scope=col>OD280.OD315_of_diluted_wines</th><th scope=col>OD280.OD315_of_flavanoids</th><th scope=col>Glycerol</th><th scope=col>X2.3.butanediol</th><th scope=col>Total_nitrogen</th><th scope=col>Proline</th><th scope=col>Methanol</th><th scope=col>Type</th><th scope=col>Year</th></tr>\n",
       "\t<tr><th></th><th scope=col>&lt;dbl&gt;</th><th scope=col>&lt;dbl&gt;</th><th scope=col>&lt;dbl&gt;</th><th scope=col>&lt;dbl&gt;</th><th scope=col>&lt;dbl&gt;</th><th scope=col>&lt;dbl&gt;</th><th scope=col>&lt;dbl&gt;</th><th scope=col>&lt;dbl&gt;</th><th scope=col>&lt;dbl&gt;</th><th scope=col>&lt;dbl&gt;</th><th scope=col>...</th><th scope=col>&lt;dbl&gt;</th><th scope=col>&lt;dbl&gt;</th><th scope=col>&lt;dbl&gt;</th><th scope=col>&lt;dbl&gt;</th><th scope=col>&lt;dbl&gt;</th><th scope=col>&lt;dbl&gt;</th><th scope=col>&lt;dbl&gt;</th><th scope=col>&lt;dbl&gt;</th><th scope=col>&lt;fct&gt;</th><th scope=col>&lt;dbl&gt;</th></tr>\n",
       "</thead>\n",
       "<tbody>\n",
       "\t<tr><th scope=row>1</th><td>14.23</td><td>24.82</td><td>73.1</td><td>1.21</td><td>1.71</td><td>0.72</td><td>3.38</td><td>2.43</td><td>15.6</td><td> 950</td><td>...</td><td>1.04</td><td>3.92</td><td>4.77</td><td> 9.29</td><td> 757</td><td>153</td><td>1065</td><td>113</td><td>Barolo</td><td>1971</td></tr>\n",
       "\t<tr><th scope=row>2</th><td>13.20</td><td>26.30</td><td>72.8</td><td>1.84</td><td>1.78</td><td>0.71</td><td>3.30</td><td>2.14</td><td>11.2</td><td> 765</td><td>...</td><td>1.05</td><td>3.40</td><td>3.80</td><td> 8.93</td><td> 881</td><td>194</td><td>1050</td><td> 94</td><td>Barolo</td><td>1971</td></tr>\n",
       "\t<tr><th scope=row>3</th><td>13.16</td><td>26.30</td><td>68.5</td><td>1.94</td><td>2.36</td><td>0.84</td><td>3.48</td><td>2.67</td><td>18.6</td><td> 936</td><td>...</td><td>1.03</td><td>3.17</td><td>3.46</td><td>11.74</td><td> 900</td><td>206</td><td>1185</td><td>125</td><td>Barolo</td><td>1971</td></tr>\n",
       "\t<tr><th scope=row>4</th><td>14.37</td><td>25.85</td><td>74.9</td><td>1.59</td><td>1.95</td><td>0.72</td><td>3.43</td><td>2.50</td><td>16.8</td><td> 985</td><td>...</td><td>0.86</td><td>3.45</td><td>3.54</td><td>10.13</td><td>1119</td><td>292</td><td>1480</td><td> 80</td><td>Barolo</td><td>1971</td></tr>\n",
       "\t<tr><th scope=row>5</th><td>13.24</td><td>26.05</td><td>83.5</td><td>1.30</td><td>2.59</td><td>1.10</td><td>3.42</td><td>2.87</td><td>21.0</td><td>1088</td><td>...</td><td>1.04</td><td>2.93</td><td>3.22</td><td>10.27</td><td> 799</td><td>215</td><td> 735</td><td> 73</td><td>Barolo</td><td>1971</td></tr>\n",
       "\t<tr><th scope=row>6</th><td>14.20</td><td>28.40</td><td>79.9</td><td>2.14</td><td>1.76</td><td>0.96</td><td>3.39</td><td>2.45</td><td>15.2</td><td> 868</td><td>...</td><td>1.05</td><td>2.85</td><td>3.16</td><td>10.85</td><td> 865</td><td>364</td><td>1450</td><td> 68</td><td>Barolo</td><td>1971</td></tr>\n",
       "</tbody>\n",
       "</table>\n"
      ],
      "text/latex": [
       "A data.frame: 6 × 29\n",
       "\\begin{tabular}{r|lllllllllllllllllllll}\n",
       "  & Alcohol & Sugar.free\\_extract & Fixed\\_acidity & Tartaric\\_acid & Malic\\_acid & Uronic\\_acids & pH & Ash & Alcalinity\\_of\\_ash & Potassium & ... & Hue & OD280.OD315\\_of\\_diluted\\_wines & OD280.OD315\\_of\\_flavanoids & Glycerol & X2.3.butanediol & Total\\_nitrogen & Proline & Methanol & Type & Year\\\\\n",
       "  & <dbl> & <dbl> & <dbl> & <dbl> & <dbl> & <dbl> & <dbl> & <dbl> & <dbl> & <dbl> & ... & <dbl> & <dbl> & <dbl> & <dbl> & <dbl> & <dbl> & <dbl> & <dbl> & <fct> & <dbl>\\\\\n",
       "\\hline\n",
       "\t1 & 14.23 & 24.82 & 73.1 & 1.21 & 1.71 & 0.72 & 3.38 & 2.43 & 15.6 &  950 & ... & 1.04 & 3.92 & 4.77 &  9.29 &  757 & 153 & 1065 & 113 & Barolo & 1971\\\\\n",
       "\t2 & 13.20 & 26.30 & 72.8 & 1.84 & 1.78 & 0.71 & 3.30 & 2.14 & 11.2 &  765 & ... & 1.05 & 3.40 & 3.80 &  8.93 &  881 & 194 & 1050 &  94 & Barolo & 1971\\\\\n",
       "\t3 & 13.16 & 26.30 & 68.5 & 1.94 & 2.36 & 0.84 & 3.48 & 2.67 & 18.6 &  936 & ... & 1.03 & 3.17 & 3.46 & 11.74 &  900 & 206 & 1185 & 125 & Barolo & 1971\\\\\n",
       "\t4 & 14.37 & 25.85 & 74.9 & 1.59 & 1.95 & 0.72 & 3.43 & 2.50 & 16.8 &  985 & ... & 0.86 & 3.45 & 3.54 & 10.13 & 1119 & 292 & 1480 &  80 & Barolo & 1971\\\\\n",
       "\t5 & 13.24 & 26.05 & 83.5 & 1.30 & 2.59 & 1.10 & 3.42 & 2.87 & 21.0 & 1088 & ... & 1.04 & 2.93 & 3.22 & 10.27 &  799 & 215 &  735 &  73 & Barolo & 1971\\\\\n",
       "\t6 & 14.20 & 28.40 & 79.9 & 2.14 & 1.76 & 0.96 & 3.39 & 2.45 & 15.2 &  868 & ... & 1.05 & 2.85 & 3.16 & 10.85 &  865 & 364 & 1450 &  68 & Barolo & 1971\\\\\n",
       "\\end{tabular}\n"
      ],
      "text/markdown": [
       "\n",
       "A data.frame: 6 × 29\n",
       "\n",
       "| <!--/--> | Alcohol &lt;dbl&gt; | Sugar.free_extract &lt;dbl&gt; | Fixed_acidity &lt;dbl&gt; | Tartaric_acid &lt;dbl&gt; | Malic_acid &lt;dbl&gt; | Uronic_acids &lt;dbl&gt; | pH &lt;dbl&gt; | Ash &lt;dbl&gt; | Alcalinity_of_ash &lt;dbl&gt; | Potassium &lt;dbl&gt; | ... ... | Hue &lt;dbl&gt; | OD280.OD315_of_diluted_wines &lt;dbl&gt; | OD280.OD315_of_flavanoids &lt;dbl&gt; | Glycerol &lt;dbl&gt; | X2.3.butanediol &lt;dbl&gt; | Total_nitrogen &lt;dbl&gt; | Proline &lt;dbl&gt; | Methanol &lt;dbl&gt; | Type &lt;fct&gt; | Year &lt;dbl&gt; |\n",
       "|---|---|---|---|---|---|---|---|---|---|---|---|---|---|---|---|---|---|---|---|---|---|\n",
       "| 1 | 14.23 | 24.82 | 73.1 | 1.21 | 1.71 | 0.72 | 3.38 | 2.43 | 15.6 |  950 | ... | 1.04 | 3.92 | 4.77 |  9.29 |  757 | 153 | 1065 | 113 | Barolo | 1971 |\n",
       "| 2 | 13.20 | 26.30 | 72.8 | 1.84 | 1.78 | 0.71 | 3.30 | 2.14 | 11.2 |  765 | ... | 1.05 | 3.40 | 3.80 |  8.93 |  881 | 194 | 1050 |  94 | Barolo | 1971 |\n",
       "| 3 | 13.16 | 26.30 | 68.5 | 1.94 | 2.36 | 0.84 | 3.48 | 2.67 | 18.6 |  936 | ... | 1.03 | 3.17 | 3.46 | 11.74 |  900 | 206 | 1185 | 125 | Barolo | 1971 |\n",
       "| 4 | 14.37 | 25.85 | 74.9 | 1.59 | 1.95 | 0.72 | 3.43 | 2.50 | 16.8 |  985 | ... | 0.86 | 3.45 | 3.54 | 10.13 | 1119 | 292 | 1480 |  80 | Barolo | 1971 |\n",
       "| 5 | 13.24 | 26.05 | 83.5 | 1.30 | 2.59 | 1.10 | 3.42 | 2.87 | 21.0 | 1088 | ... | 1.04 | 2.93 | 3.22 | 10.27 |  799 | 215 |  735 |  73 | Barolo | 1971 |\n",
       "| 6 | 14.20 | 28.40 | 79.9 | 2.14 | 1.76 | 0.96 | 3.39 | 2.45 | 15.2 |  868 | ... | 1.05 | 2.85 | 3.16 | 10.85 |  865 | 364 | 1450 |  68 | Barolo | 1971 |\n",
       "\n"
      ],
      "text/plain": [
       "  Alcohol Sugar.free_extract Fixed_acidity Tartaric_acid Malic_acid\n",
       "1 14.23   24.82              73.1          1.21          1.71      \n",
       "2 13.20   26.30              72.8          1.84          1.78      \n",
       "3 13.16   26.30              68.5          1.94          2.36      \n",
       "4 14.37   25.85              74.9          1.59          1.95      \n",
       "5 13.24   26.05              83.5          1.30          2.59      \n",
       "6 14.20   28.40              79.9          2.14          1.76      \n",
       "  Uronic_acids pH   Ash  Alcalinity_of_ash Potassium ... Hue \n",
       "1 0.72         3.38 2.43 15.6               950      ... 1.04\n",
       "2 0.71         3.30 2.14 11.2               765      ... 1.05\n",
       "3 0.84         3.48 2.67 18.6               936      ... 1.03\n",
       "4 0.72         3.43 2.50 16.8               985      ... 0.86\n",
       "5 1.10         3.42 2.87 21.0              1088      ... 1.04\n",
       "6 0.96         3.39 2.45 15.2               868      ... 1.05\n",
       "  OD280.OD315_of_diluted_wines OD280.OD315_of_flavanoids Glycerol\n",
       "1 3.92                         4.77                       9.29   \n",
       "2 3.40                         3.80                       8.93   \n",
       "3 3.17                         3.46                      11.74   \n",
       "4 3.45                         3.54                      10.13   \n",
       "5 2.93                         3.22                      10.27   \n",
       "6 2.85                         3.16                      10.85   \n",
       "  X2.3.butanediol Total_nitrogen Proline Methanol Type   Year\n",
       "1  757            153            1065    113      Barolo 1971\n",
       "2  881            194            1050     94      Barolo 1971\n",
       "3  900            206            1185    125      Barolo 1971\n",
       "4 1119            292            1480     80      Barolo 1971\n",
       "5  799            215             735     73      Barolo 1971\n",
       "6  865            364            1450     68      Barolo 1971"
      ]
     },
     "metadata": {},
     "output_type": "display_data"
    }
   ],
   "source": [
    "data(wine27)\n",
    "head(wine27)"
   ]
  },
  {
   "cell_type": "markdown",
   "metadata": {},
   "source": [
    "**we will use the column Type in order to realize the classification**"
   ]
  },
  {
   "cell_type": "markdown",
   "metadata": {},
   "source": [
    "## Training and  prediction with split method\n",
    "**KNN train and train at the same time**\n",
    "\n",
    "**Here we have choosen k=3 arbitrary**"
   ]
  },
  {
   "cell_type": "code",
   "execution_count": 18,
   "metadata": {},
   "outputs": [
    {
     "data": {
      "text/html": [
       "<style>\n",
       ".list-inline {list-style: none; margin:0; padding: 0}\n",
       ".list-inline>li {display: inline-block}\n",
       ".list-inline>li:not(:last-child)::after {content: \"\\00b7\"; padding: 0 .5ex}\n",
       "</style>\n",
       "<ol class=list-inline><li>Barolo</li><li>Barolo</li><li>Barolo</li><li>Barolo</li><li>Barolo</li><li>Barolo</li><li>Barbera</li><li>Barolo</li><li>Barolo</li><li>Grignolino</li><li>Grignolino</li><li>Grignolino</li><li>Grignolino</li><li>Grignolino</li><li>Grignolino</li><li>Grignolino</li><li>Grignolino</li><li>Grignolino</li><li>Grignolino</li><li>Grignolino</li><li>Barbera</li><li>Barbera</li><li>Barbera</li><li>Barolo</li><li>Barbera</li><li>Barbera</li><li>Barbera</li><li>Grignolino</li></ol>\n",
       "\n",
       "<details>\n",
       "\t<summary style=display:list-item;cursor:pointer>\n",
       "\t\t<strong>Levels</strong>:\n",
       "\t</summary>\n",
       "\t<style>\n",
       "\t.list-inline {list-style: none; margin:0; padding: 0}\n",
       "\t.list-inline>li {display: inline-block}\n",
       "\t.list-inline>li:not(:last-child)::after {content: \"\\00b7\"; padding: 0 .5ex}\n",
       "\t</style>\n",
       "\t<ol class=list-inline><li>'Barbera'</li><li>'Barolo'</li><li>'Grignolino'</li></ol>\n",
       "</details>"
      ],
      "text/latex": [
       "\\begin{enumerate*}\n",
       "\\item Barolo\n",
       "\\item Barolo\n",
       "\\item Barolo\n",
       "\\item Barolo\n",
       "\\item Barolo\n",
       "\\item Barolo\n",
       "\\item Barbera\n",
       "\\item Barolo\n",
       "\\item Barolo\n",
       "\\item Grignolino\n",
       "\\item Grignolino\n",
       "\\item Grignolino\n",
       "\\item Grignolino\n",
       "\\item Grignolino\n",
       "\\item Grignolino\n",
       "\\item Grignolino\n",
       "\\item Grignolino\n",
       "\\item Grignolino\n",
       "\\item Grignolino\n",
       "\\item Grignolino\n",
       "\\item Barbera\n",
       "\\item Barbera\n",
       "\\item Barbera\n",
       "\\item Barolo\n",
       "\\item Barbera\n",
       "\\item Barbera\n",
       "\\item Barbera\n",
       "\\item Grignolino\n",
       "\\end{enumerate*}\n",
       "\n",
       "\\emph{Levels}: \\begin{enumerate*}\n",
       "\\item 'Barbera'\n",
       "\\item 'Barolo'\n",
       "\\item 'Grignolino'\n",
       "\\end{enumerate*}\n"
      ],
      "text/markdown": [
       "1. Barolo\n",
       "2. Barolo\n",
       "3. Barolo\n",
       "4. Barolo\n",
       "5. Barolo\n",
       "6. Barolo\n",
       "7. Barbera\n",
       "8. Barolo\n",
       "9. Barolo\n",
       "10. Grignolino\n",
       "11. Grignolino\n",
       "12. Grignolino\n",
       "13. Grignolino\n",
       "14. Grignolino\n",
       "15. Grignolino\n",
       "16. Grignolino\n",
       "17. Grignolino\n",
       "18. Grignolino\n",
       "19. Grignolino\n",
       "20. Grignolino\n",
       "21. Barbera\n",
       "22. Barbera\n",
       "23. Barbera\n",
       "24. Barolo\n",
       "25. Barbera\n",
       "26. Barbera\n",
       "27. Barbera\n",
       "28. Grignolino\n",
       "\n",
       "\n",
       "\n",
       "**Levels**: 1. 'Barbera'\n",
       "2. 'Barolo'\n",
       "3. 'Grignolino'\n",
       "\n",
       "\n"
      ],
      "text/plain": [
       " [1] Barolo     Barolo     Barolo     Barolo     Barolo     Barolo    \n",
       " [7] Barbera    Barolo     Barolo     Grignolino Grignolino Grignolino\n",
       "[13] Grignolino Grignolino Grignolino Grignolino Grignolino Grignolino\n",
       "[19] Grignolino Grignolino Barbera    Barbera    Barbera    Barolo    \n",
       "[25] Barbera    Barbera    Barbera    Grignolino\n",
       "Levels: Barbera Barolo Grignolino"
      ]
     },
     "metadata": {},
     "output_type": "display_data"
    }
   ],
   "source": [
    "N = nrow(wine27)\n",
    "# remove colums Type and Year\n",
    "X=wine27[,1:27]\n",
    "Y=wine27$Type\n",
    "# train and predict\n",
    "train=sample(1:N,150)\n",
    "out = knn(X[train,],X[-train,],Y[train],3)\n",
    "out"
   ]
  },
  {
   "cell_type": "markdown",
   "metadata": {},
   "source": [
    "## Calculation of the validation error"
   ]
  },
  {
   "cell_type": "code",
   "execution_count": 19,
   "metadata": {},
   "outputs": [
    {
     "data": {
      "text/html": [
       "0.107142857142857"
      ],
      "text/latex": [
       "0.107142857142857"
      ],
      "text/markdown": [
       "0.107142857142857"
      ],
      "text/plain": [
       "[1] 0.1071429"
      ]
     },
     "metadata": {},
     "output_type": "display_data"
    }
   ],
   "source": [
    "res = (as.numeric(out)-as.numeric(Y[-train]))\n",
    "err = length(res[res != 0])/length(out)\n",
    "err"
   ]
  },
  {
   "cell_type": "code",
   "execution_count": 20,
   "metadata": {},
   "outputs": [
    {
     "data": {
      "text/html": [
       "0.107142857142857"
      ],
      "text/latex": [
       "0.107142857142857"
      ],
      "text/markdown": [
       "0.107142857142857"
      ],
      "text/plain": [
       "[1] 0.1071429"
      ]
     },
     "metadata": {},
     "output_type": "display_data"
    }
   ],
   "source": [
    "sum(out != Y[-train])/length(out)"
   ]
  },
  {
   "cell_type": "markdown",
   "metadata": {},
   "source": [
    "## Training and  prediction with \"leave one out\" - searching for best k"
   ]
  },
  {
   "cell_type": "code",
   "execution_count": 21,
   "metadata": {
    "scrolled": false
   },
   "outputs": [
    {
     "data": {
      "text/html": [
       "4"
      ],
      "text/latex": [
       "4"
      ],
      "text/markdown": [
       "4"
      ],
      "text/plain": [
       "[1] 4"
      ]
     },
     "metadata": {},
     "output_type": "display_data"
    },
    {
     "data": {
      "image/png": "[encoded data removed]",
      "text/plain": [
       "plot without title"
      ]
     },
     "metadata": {
      "image/png": {
       "height": 420,
       "width": 420
      },
      "text/plain": {
       "height": 420,
       "width": 420
      }
     },
     "output_type": "display_data"
    }
   ],
   "source": [
    "N = nrow(wine27)\n",
    "X=wine27[,1:27]\n",
    "Y=wine27$Type\n",
    "ErrCV = matrix(NA,N,20)\n",
    "for (k in 1:20) {\n",
    "    for (i in 1:nrow(X))\n",
    "    {\n",
    "        # Split between train and validation\n",
    "        train = seq(1,nrow(X))[-i]\n",
    "        out = knn(X[train,],X[-train,],Y[train],k)\n",
    "        ErrCV[i,k] = sum(out != Y[-train])/length(out)\n",
    "    }\n",
    "}\n",
    "plot(colMeans(ErrCV),type='b')\n",
    "which.min(colMeans(ErrCV))"
   ]
  },
  {
   "cell_type": "markdown",
   "metadata": {},
   "source": [
    "**here the smallest error is for k=9**"
   ]
  },
  {
   "cell_type": "code",
   "execution_count": 22,
   "metadata": {},
   "outputs": [
    {
     "data": {
      "text/html": [
       "0.162921348314607"
      ],
      "text/latex": [
       "0.162921348314607"
      ],
      "text/markdown": [
       "0.162921348314607"
      ],
      "text/plain": [
       "[1] 0.1629213"
      ]
     },
     "metadata": {},
     "output_type": "display_data"
    }
   ],
   "source": [
    "min(colMeans(ErrCV))"
   ]
  },
  {
   "cell_type": "markdown",
   "metadata": {},
   "source": [
    "### 16% of error is quit high\n",
    "**Best solution seems to be 9**\n",
    "\n",
    "**But there are random in the search of the neighboor done by R, so if the algo is run several times, the result changes**"
   ]
  },
  {
   "cell_type": "markdown",
   "metadata": {},
   "source": [
    "# Classification with LDA algorythm\n",
    "\n",
    "Learning, prediction and calculation erro value - with split method"
   ]
  },
  {
   "cell_type": "code",
   "execution_count": 23,
   "metadata": {},
   "outputs": [
    {
     "data": {
      "text/html": [
       "0"
      ],
      "text/latex": [
       "0"
      ],
      "text/markdown": [
       "0"
      ],
      "text/plain": [
       "[1] 0"
      ]
     },
     "metadata": {},
     "output_type": "display_data"
    }
   ],
   "source": [
    "N = nrow(wine27)\n",
    "X=wine27[,1:27]\n",
    "Y=wine27$Type\n",
    "train=sample(1:N,150)\n",
    "\n",
    "f = lda(X[train,],Y[train])\n",
    "\n",
    "#prediction step\n",
    "yhat = predict(f,X[-train,])\n",
    "sum(yhat$class != Y[-train])/length(yhat$class)\n"
   ]
  },
  {
   "cell_type": "markdown",
   "metadata": {},
   "source": [
    "* yhat$class : gives the result\n",
    "\n",
    "* yhat$posterior : gives the probability for each class"
   ]
  },
  {
   "cell_type": "markdown",
   "metadata": {},
   "source": [
    "**Here LDA perfectly classify : err =0**\n",
    "\n",
    "## LDA with 'leave one out' method"
   ]
  },
  {
   "cell_type": "code",
   "execution_count": 24,
   "metadata": {},
   "outputs": [
    {
     "data": {
      "text/html": [
       "0.0112359550561798"
      ],
      "text/latex": [
       "0.0112359550561798"
      ],
      "text/markdown": [
       "0.0112359550561798"
      ],
      "text/plain": [
       "[1] 0.01123596"
      ]
     },
     "metadata": {},
     "output_type": "display_data"
    }
   ],
   "source": [
    "N = nrow(wine27)\n",
    "X=wine27[,1:27]\n",
    "Y=wine27$Type\n",
    "ErrCV = rep(NA,N)\n",
    "    for (i in 1:nrow(X))\n",
    "    {\n",
    "        # Split between train and validation\n",
    "        train = seq(1,nrow(X))[-i]\n",
    "        f = lda(X[train,],Y[train])\n",
    "\n",
    "        yhat = predict(f,X[-train,])\n",
    "        ErrCV[i] = sum(yhat$class != Y[-train])/length(yhat$class)        \n",
    "    }\n",
    "mean(ErrCV)"
   ]
  },
  {
   "cell_type": "markdown",
   "metadata": {},
   "source": [
    "**1.1% really better then KNN**"
   ]
  },
  {
   "cell_type": "markdown",
   "metadata": {},
   "source": [
    "# Classification with Logistic Regression\n",
    "\n",
    "We will use banknote dataset with binary classification"
   ]
  },
  {
   "cell_type": "code",
   "execution_count": 25,
   "metadata": {},
   "outputs": [],
   "source": [
    "data(banknote)"
   ]
  },
  {
   "cell_type": "code",
   "execution_count": 26,
   "metadata": {},
   "outputs": [
    {
     "data": {
      "text/html": [
       "<table>\n",
       "<caption>A data.frame: 6 × 7</caption>\n",
       "<thead>\n",
       "\t<tr><th></th><th scope=col>Status</th><th scope=col>Length</th><th scope=col>Left</th><th scope=col>Right</th><th scope=col>Bottom</th><th scope=col>Top</th><th scope=col>Diagonal</th></tr>\n",
       "\t<tr><th></th><th scope=col>&lt;fct&gt;</th><th scope=col>&lt;dbl&gt;</th><th scope=col>&lt;dbl&gt;</th><th scope=col>&lt;dbl&gt;</th><th scope=col>&lt;dbl&gt;</th><th scope=col>&lt;dbl&gt;</th><th scope=col>&lt;dbl&gt;</th></tr>\n",
       "</thead>\n",
       "<tbody>\n",
       "\t<tr><th scope=row>1</th><td>genuine</td><td>214.8</td><td>131.0</td><td>131.1</td><td> 9.0</td><td> 9.7</td><td>141.0</td></tr>\n",
       "\t<tr><th scope=row>2</th><td>genuine</td><td>214.6</td><td>129.7</td><td>129.7</td><td> 8.1</td><td> 9.5</td><td>141.7</td></tr>\n",
       "\t<tr><th scope=row>3</th><td>genuine</td><td>214.8</td><td>129.7</td><td>129.7</td><td> 8.7</td><td> 9.6</td><td>142.2</td></tr>\n",
       "\t<tr><th scope=row>4</th><td>genuine</td><td>214.8</td><td>129.7</td><td>129.6</td><td> 7.5</td><td>10.4</td><td>142.0</td></tr>\n",
       "\t<tr><th scope=row>5</th><td>genuine</td><td>215.0</td><td>129.6</td><td>129.7</td><td>10.4</td><td> 7.7</td><td>141.8</td></tr>\n",
       "\t<tr><th scope=row>6</th><td>genuine</td><td>215.7</td><td>130.8</td><td>130.5</td><td> 9.0</td><td>10.1</td><td>141.4</td></tr>\n",
       "</tbody>\n",
       "</table>\n"
      ],
      "text/latex": [
       "A data.frame: 6 × 7\n",
       "\\begin{tabular}{r|lllllll}\n",
       "  & Status & Length & Left & Right & Bottom & Top & Diagonal\\\\\n",
       "  & <fct> & <dbl> & <dbl> & <dbl> & <dbl> & <dbl> & <dbl>\\\\\n",
       "\\hline\n",
       "\t1 & genuine & 214.8 & 131.0 & 131.1 &  9.0 &  9.7 & 141.0\\\\\n",
       "\t2 & genuine & 214.6 & 129.7 & 129.7 &  8.1 &  9.5 & 141.7\\\\\n",
       "\t3 & genuine & 214.8 & 129.7 & 129.7 &  8.7 &  9.6 & 142.2\\\\\n",
       "\t4 & genuine & 214.8 & 129.7 & 129.6 &  7.5 & 10.4 & 142.0\\\\\n",
       "\t5 & genuine & 215.0 & 129.6 & 129.7 & 10.4 &  7.7 & 141.8\\\\\n",
       "\t6 & genuine & 215.7 & 130.8 & 130.5 &  9.0 & 10.1 & 141.4\\\\\n",
       "\\end{tabular}\n"
      ],
      "text/markdown": [
       "\n",
       "A data.frame: 6 × 7\n",
       "\n",
       "| <!--/--> | Status &lt;fct&gt; | Length &lt;dbl&gt; | Left &lt;dbl&gt; | Right &lt;dbl&gt; | Bottom &lt;dbl&gt; | Top &lt;dbl&gt; | Diagonal &lt;dbl&gt; |\n",
       "|---|---|---|---|---|---|---|---|\n",
       "| 1 | genuine | 214.8 | 131.0 | 131.1 |  9.0 |  9.7 | 141.0 |\n",
       "| 2 | genuine | 214.6 | 129.7 | 129.7 |  8.1 |  9.5 | 141.7 |\n",
       "| 3 | genuine | 214.8 | 129.7 | 129.7 |  8.7 |  9.6 | 142.2 |\n",
       "| 4 | genuine | 214.8 | 129.7 | 129.6 |  7.5 | 10.4 | 142.0 |\n",
       "| 5 | genuine | 215.0 | 129.6 | 129.7 | 10.4 |  7.7 | 141.8 |\n",
       "| 6 | genuine | 215.7 | 130.8 | 130.5 |  9.0 | 10.1 | 141.4 |\n",
       "\n"
      ],
      "text/plain": [
       "  Status  Length Left  Right Bottom Top  Diagonal\n",
       "1 genuine 214.8  131.0 131.1  9.0    9.7 141.0   \n",
       "2 genuine 214.6  129.7 129.7  8.1    9.5 141.7   \n",
       "3 genuine 214.8  129.7 129.7  8.7    9.6 142.2   \n",
       "4 genuine 214.8  129.7 129.6  7.5   10.4 142.0   \n",
       "5 genuine 215.0  129.6 129.7 10.4    7.7 141.8   \n",
       "6 genuine 215.7  130.8 130.5  9.0   10.1 141.4   "
      ]
     },
     "metadata": {},
     "output_type": "display_data"
    }
   ],
   "source": [
    "head(banknote)"
   ]
  },
  {
   "cell_type": "markdown",
   "metadata": {},
   "source": [
    "**Training, classification and calculation of the error**\n",
    "\n",
    "with split method"
   ]
  },
  {
   "cell_type": "code",
   "execution_count": 27,
   "metadata": {},
   "outputs": [
    {
     "name": "stderr",
     "output_type": "stream",
     "text": [
      "Warning message:\n",
      "\"glm.fit: algorithm did not converge\"\n",
      "Warning message:\n",
      "\"glm.fit: fitted probabilities numerically 0 or 1 occurred\"\n"
     ]
    },
    {
     "data": {
      "text/html": [
       "0.02"
      ],
      "text/latex": [
       "0.02"
      ],
      "text/markdown": [
       "0.02"
      ],
      "text/plain": [
       "[1] 0.02"
      ]
     },
     "metadata": {},
     "output_type": "display_data"
    }
   ],
   "source": [
    "N = nrow(banknote)\n",
    "X=banknote[,-1]\n",
    "Y=banknote$Status\n",
    "train=sample(1:nrow(X),150)\n",
    "\n",
    "f = glm(Status~.,data=banknote, subset = train,family = 'binomial')\n",
    "\n",
    "out = predict(f,newdata = X[-train,])\n",
    "yhat = (as.numeric(out) > 0) +  1\n",
    "sum(yhat != as.numeric(Y[-train])) / length(yhat)"
   ]
  },
  {
   "cell_type": "markdown",
   "metadata": {},
   "source": [
    "The error is 4%"
   ]
  },
  {
   "cell_type": "markdown",
   "metadata": {},
   "source": [
    "# Comparing Knn, LDA and Logistic Regression with leave one out method"
   ]
  },
  {
   "cell_type": "code",
   "execution_count": 28,
   "metadata": {},
   "outputs": [
    {
     "data": {
      "text/html": [
       "0.005"
      ],
      "text/latex": [
       "0.005"
      ],
      "text/markdown": [
       "0.005"
      ],
      "text/plain": [
       "[1] 0.005"
      ]
     },
     "metadata": {},
     "output_type": "display_data"
    },
    {
     "data": {
      "text/html": [
       "0.025"
      ],
      "text/latex": [
       "0.025"
      ],
      "text/markdown": [
       "0.025"
      ],
      "text/plain": [
       "[1] 0.025"
      ]
     },
     "metadata": {},
     "output_type": "display_data"
    },
    {
     "data": {
      "text/html": [
       "0.005"
      ],
      "text/latex": [
       "0.005"
      ],
      "text/markdown": [
       "0.005"
      ],
      "text/plain": [
       "[1] 0.005"
      ]
     },
     "metadata": {},
     "output_type": "display_data"
    },
    {
     "data": {
      "text/html": [
       "<style>\n",
       ".dl-inline {width: auto; margin:0; padding: 0}\n",
       ".dl-inline>dt, .dl-inline>dd {float: none; width: auto; display: inline-block}\n",
       ".dl-inline>dt::after {content: \":\\0020\"; padding-right: .5ex}\n",
       ".dl-inline>dt:not(:first-of-type) {padding-left: .5ex}\n",
       "</style><dl class=dl-inline><dt>ErrCV.LDA</dt><dd>0.005</dd><dt>ErrCV.LReg</dt><dd>0.025</dd><dt>ErrCV.kNN</dt><dd>0.005</dd></dl>\n"
      ],
      "text/latex": [
       "\\begin{description*}\n",
       "\\item[ErrCV.LDA] 0.005\n",
       "\\item[ErrCV.LReg] 0.025\n",
       "\\item[ErrCV.kNN] 0.005\n",
       "\\end{description*}\n"
      ],
      "text/markdown": [
       "ErrCV.LDA\n",
       ":   0.005ErrCV.LReg\n",
       ":   0.025ErrCV.kNN\n",
       ":   0.005\n",
       "\n"
      ],
      "text/plain": [
       " ErrCV.LDA ErrCV.LReg  ErrCV.kNN \n",
       "     0.005      0.025      0.005 "
      ]
     },
     "metadata": {},
     "output_type": "display_data"
    }
   ],
   "source": [
    "N = nrow(banknote)\n",
    "X=banknote[,-1]\n",
    "Y=banknote$Status\n",
    "\n",
    "ErrCV.kNN = rep(NA,N)\n",
    "ErrCV.LDA = rep(NA,N)\n",
    "ErrCV.LReg = rep(NA,N)\n",
    "options(warn = -1)\n",
    "    for (i in 1:nrow(X))\n",
    "    {\n",
    "        # Split between train and validation\n",
    "        train = seq(1,nrow(X))[-i]\n",
    "        f = lda(X[train,],Y[train])\n",
    "\n",
    "        yhat = predict(f,X[-train,])\n",
    "        ErrCV.LDA[i] = sum(yhat$class != Y[-train])/length(yhat$class)        \n",
    "    }\n",
    "\n",
    "    for (i in 1:nrow(X))\n",
    "    {\n",
    "        # Split between train and validation\n",
    "        train = seq(1,nrow(X))[-i]\n",
    "        f = glm(Status~.,data=banknote, subset = train,family = 'binomial')\n",
    "\n",
    "        out = predict(f,newdata = X[-train,])\n",
    "        yhat = (as.numeric(out) > 0) +  1\n",
    "        ErrCV.LReg[i] = sum(yhat != as.numeric(Y[-train])) / length(yhat)       \n",
    "    }\n",
    "\n",
    "    for (i in 1:nrow(X))\n",
    "    {\n",
    "        # Split between train and validation\n",
    "        train = seq(1,nrow(X))[-i]\n",
    "        out = knn(X[train,],X[-train,],Y[train],1)\n",
    "        ErrCV.kNN[i] = sum(out != Y[-train])/length(out)\n",
    "    }\n",
    "options(warn=0)\n",
    "mean(ErrCV.LDA)\n",
    "mean(ErrCV.LReg)\n",
    "mean(ErrCV.kNN)\n",
    "Err = cbind(ErrCV.LDA,ErrCV.LReg,ErrCV.kNN)\n",
    "colMeans(Err)\n"
   ]
  },
  {
   "cell_type": "markdown",
   "metadata": {},
   "source": [
    "### Comparaison of the 3 methods\n",
    "KNN and LDA are best\n",
    "\n",
    "Logistic Regression is 3rd\n",
    "\n",
    "We can even calculate standard deviation (see below) and even confidence interval (to be done) with the errors calculated with leave one out methos"
   ]
  },
  {
   "cell_type": "code",
   "execution_count": 29,
   "metadata": {},
   "outputs": [
    {
     "data": {
      "text/html": [
       "<style>\n",
       ".dl-inline {width: auto; margin:0; padding: 0}\n",
       ".dl-inline>dt, .dl-inline>dd {float: none; width: auto; display: inline-block}\n",
       ".dl-inline>dt::after {content: \":\\0020\"; padding-right: .5ex}\n",
       ".dl-inline>dt:not(:first-of-type) {padding-left: .5ex}\n",
       "</style><dl class=dl-inline><dt>ErrCV.LDA</dt><dd>0.0707106781186548</dd><dt>ErrCV.LReg</dt><dd>0.156516732131699</dd><dt>ErrCV.kNN</dt><dd>0.0707106781186548</dd></dl>\n"
      ],
      "text/latex": [
       "\\begin{description*}\n",
       "\\item[ErrCV.LDA] 0.0707106781186548\n",
       "\\item[ErrCV.LReg] 0.156516732131699\n",
       "\\item[ErrCV.kNN] 0.0707106781186548\n",
       "\\end{description*}\n"
      ],
      "text/markdown": [
       "ErrCV.LDA\n",
       ":   0.0707106781186548ErrCV.LReg\n",
       ":   0.156516732131699ErrCV.kNN\n",
       ":   0.0707106781186548\n",
       "\n"
      ],
      "text/plain": [
       " ErrCV.LDA ErrCV.LReg  ErrCV.kNN \n",
       "0.07071068 0.15651673 0.07071068 "
      ]
     },
     "metadata": {},
     "output_type": "display_data"
    }
   ],
   "source": [
    "apply(Err,2,sd)"
   ]
  },
  {
   "cell_type": "markdown",
   "metadata": {},
   "source": [
    "### Confirmation that the k=1 is the best parameter for Knn on banknote dataser"
   ]
  },
  {
   "cell_type": "code",
   "execution_count": 30,
   "metadata": {},
   "outputs": [
    {
     "data": {
      "text/html": [
       "1"
      ],
      "text/latex": [
       "1"
      ],
      "text/markdown": [
       "1"
      ],
      "text/plain": [
       "[1] 1"
      ]
     },
     "metadata": {},
     "output_type": "display_data"
    },
    {
     "data": {
      "image/png": "[encoded data removed]",
      "text/plain": [
       "plot without title"
      ]
     },
     "metadata": {
      "image/png": {
       "height": 420,
       "width": 420
      },
      "text/plain": {
       "height": 420,
       "width": 420
      }
     },
     "output_type": "display_data"
    }
   ],
   "source": [
    "N = nrow(banknote)\n",
    "X=banknote[,-1]\n",
    "Y=banknote$Status\n",
    "ErrCV = matrix(NA,N,20)\n",
    "for (k in 1:20) {\n",
    "    for (i in 1:nrow(X))\n",
    "    {\n",
    "        # Split between train and validation\n",
    "        train = seq(1,nrow(X))[-i]\n",
    "        out = knn(X[train,],X[-train,],Y[train],k)\n",
    "        ErrCV[i,k] = sum(out != Y[-train])/length(out)\n",
    "    }\n",
    "}\n",
    "plot(colMeans(ErrCV),type='b')\n",
    "which.min(colMeans(ErrCV))"
   ]
  },
  {
   "cell_type": "markdown",
   "metadata": {},
   "source": [
    "### Comparison of Knn, Lda and Logistic Regression on swiss dataset"
   ]
  },
  {
   "cell_type": "code",
   "execution_count": 31,
   "metadata": {},
   "outputs": [],
   "source": [
    "data(swiss)"
   ]
  },
  {
   "cell_type": "markdown",
   "metadata": {},
   "source": [
    "The Classification is done on $Catholic variable.\n",
    "\n",
    "The numerical variable is trnasformed into a boolean"
   ]
  },
  {
   "cell_type": "code",
   "execution_count": 32,
   "metadata": {},
   "outputs": [],
   "source": [
    "X = swiss[,-5]\n",
    "Y= swiss$Catholic >= 50"
   ]
  },
  {
   "cell_type": "markdown",
   "metadata": {},
   "source": [
    "### find best k for Knn - using leave one out method\n"
   ]
  },
  {
   "cell_type": "code",
   "execution_count": 33,
   "metadata": {
    "scrolled": false
   },
   "outputs": [
    {
     "data": {
      "text/html": [
       "3"
      ],
      "text/latex": [
       "3"
      ],
      "text/markdown": [
       "3"
      ],
      "text/plain": [
       "[1] 3"
      ]
     },
     "metadata": {},
     "output_type": "display_data"
    },
    {
     "data": {
      "image/png": "[encoded data removed]",
      "text/plain": [
       "plot without title"
      ]
     },
     "metadata": {
      "image/png": {
       "height": 420,
       "width": 420
      },
      "text/plain": {
       "height": 420,
       "width": 420
      }
     },
     "output_type": "display_data"
    }
   ],
   "source": [
    "N = nrow(swiss)\n",
    "X = swiss[,-5]\n",
    "Y= swiss$Catholic >= 50\n",
    "ErrCV = matrix(NA,N,20)\n",
    "for (k in 1:20) {\n",
    "    for (i in 1:nrow(X))\n",
    "    {\n",
    "        # Split between train and validation\n",
    "        train = seq(1,nrow(X))[-i]\n",
    "        out = knn(X[train,],X[-train,],Y[train],k)\n",
    "        ErrCV[i,k] = sum(out != Y[-train])/length(out)\n",
    "    }\n",
    "}\n",
    "plot(colMeans(ErrCV),type='b')\n",
    "which.min(colMeans(ErrCV))"
   ]
  },
  {
   "cell_type": "markdown",
   "metadata": {},
   "source": [
    "K = 3"
   ]
  },
  {
   "cell_type": "code",
   "execution_count": 34,
   "metadata": {},
   "outputs": [
    {
     "data": {
      "text/html": [
       "<style>\n",
       ".dl-inline {width: auto; margin:0; padding: 0}\n",
       ".dl-inline>dt, .dl-inline>dd {float: none; width: auto; display: inline-block}\n",
       ".dl-inline>dt::after {content: \":\\0020\"; padding-right: .5ex}\n",
       ".dl-inline>dt:not(:first-of-type) {padding-left: .5ex}\n",
       "</style><dl class=dl-inline><dt>ErrCV.LDA</dt><dd>0.148936170212766</dd><dt>ErrCV.LReg</dt><dd>0.127659574468085</dd><dt>ErrCV.kNN</dt><dd>0.148936170212766</dd></dl>\n"
      ],
      "text/latex": [
       "\\begin{description*}\n",
       "\\item[ErrCV.LDA] 0.148936170212766\n",
       "\\item[ErrCV.LReg] 0.127659574468085\n",
       "\\item[ErrCV.kNN] 0.148936170212766\n",
       "\\end{description*}\n"
      ],
      "text/markdown": [
       "ErrCV.LDA\n",
       ":   0.148936170212766ErrCV.LReg\n",
       ":   0.127659574468085ErrCV.kNN\n",
       ":   0.148936170212766\n",
       "\n"
      ],
      "text/plain": [
       " ErrCV.LDA ErrCV.LReg  ErrCV.kNN \n",
       " 0.1489362  0.1276596  0.1489362 "
      ]
     },
     "metadata": {},
     "output_type": "display_data"
    }
   ],
   "source": [
    "N = nrow(swiss)\n",
    "X = swiss[,-5]\n",
    "Y= swiss$Catholic >= 50\n",
    "ErrCV.kNN = rep(NA,N)\n",
    "ErrCV.LDA = rep(NA,N)\n",
    "ErrCV.LReg = rep(NA,N)\n",
    "options(warn=-1)\n",
    "    for (i in 1:nrow(X))\n",
    "    {\n",
    "        # Split between train and validation\n",
    "        train = seq(1,nrow(X))[-i]\n",
    "        f = lda(X[train,],Y[train])\n",
    "\n",
    "        yhat = predict(f,X[-train,])\n",
    "        ErrCV.LDA[i] = sum(yhat$class != Y[-train])/length(yhat$class)        \n",
    "    }\n",
    "\n",
    "    for (i in 1:nrow(X))\n",
    "    {\n",
    "        # Split between train and validation\n",
    "        train = seq(1,nrow(X))[-i]\n",
    "        f = glm((Catholic>50)~., data = swiss, subset = train,family = 'binomial')\n",
    "\n",
    "        out = predict(f,newdata = X[-train,])\n",
    "        yhat = (out > 0)\n",
    "        ErrCV.LReg[i] = sum(yhat != (as.numeric(Y[-train]))) / length(yhat)     \n",
    "    }\n",
    "\n",
    "    for (i in 1:nrow(X))\n",
    "    {\n",
    "        # Split between train and validation\n",
    "        train = seq(1,nrow(X))[-i]\n",
    "        out = knn(X[train,],X[-train,],Y[train],3)\n",
    "        ErrCV.kNN[i] = sum(out != Y[-train])/length(out)\n",
    "    }\n",
    "options(warn=0)   \n",
    "#mean(ErrCV.LDA)\n",
    "#mean(ErrCV.LReg)\n",
    "#mean(ErrCV.kNN)\n",
    "Err = cbind(ErrCV.LDA,ErrCV.LReg,ErrCV.kNN)\n",
    "colMeans(Err)"
   ]
  },
  {
   "cell_type": "markdown",
   "metadata": {},
   "source": [
    "**For swiss dataset, Logistic regression is best method.**"
   ]
  },
  {
   "cell_type": "markdown",
   "metadata": {},
   "source": [
    "# Classification with SVM\n"
   ]
  },
  {
   "cell_type": "code",
   "execution_count": 35,
   "metadata": {},
   "outputs": [
    {
     "name": "stderr",
     "output_type": "stream",
     "text": [
      "Installing package into 'C:/Users/erick/R'\n",
      "(as 'lib' is unspecified)\n",
      "\n"
     ]
    },
    {
     "name": "stdout",
     "output_type": "stream",
     "text": [
      "package 'e1071' successfully unpacked and MD5 sums checked\n",
      "\n",
      "The downloaded binary packages are in\n",
      "\tC:\\Users\\erick\\AppData\\Local\\Temp\\RtmpyudMa2\\downloaded_packages\n"
     ]
    }
   ],
   "source": [
    "install.packages(\"e1071\")"
   ]
  },
  {
   "cell_type": "code",
   "execution_count": 36,
   "metadata": {},
   "outputs": [
    {
     "name": "stderr",
     "output_type": "stream",
     "text": [
      "Warning message:\n",
      "\"package 'e1071' was built under R version 4.0.2\"\n"
     ]
    }
   ],
   "source": [
    "library(e1071)\n",
    "library(class)\n",
    "library(MASS)"
   ]
  },
  {
   "cell_type": "markdown",
   "metadata": {},
   "source": [
    "## Test SVM with linear kernel on Iris Dataset and compare with LDA"
   ]
  },
  {
   "cell_type": "code",
   "execution_count": 37,
   "metadata": {},
   "outputs": [],
   "source": [
    "data(iris)\n",
    "X=iris[,-5]\n",
    "Y=as.numeric(iris$Species)\n"
   ]
  },
  {
   "cell_type": "code",
   "execution_count": 38,
   "metadata": {},
   "outputs": [
    {
     "data": {
      "text/html": [
       "<style>\n",
       ".dl-inline {width: auto; margin:0; padding: 0}\n",
       ".dl-inline>dt, .dl-inline>dd {float: none; width: auto; display: inline-block}\n",
       ".dl-inline>dt::after {content: \":\\0020\"; padding-right: .5ex}\n",
       ".dl-inline>dt:not(:first-of-type) {padding-left: .5ex}\n",
       "</style><dl class=dl-inline><dt>ErrCV.LDA</dt><dd>0.140469013039037</dd><dt>ErrCV.SVM</dt><dd>0.19661566092457</dd></dl>\n"
      ],
      "text/latex": [
       "\\begin{description*}\n",
       "\\item[ErrCV.LDA] 0.140469013039037\n",
       "\\item[ErrCV.SVM] 0.19661566092457\n",
       "\\end{description*}\n"
      ],
      "text/markdown": [
       "ErrCV.LDA\n",
       ":   0.140469013039037ErrCV.SVM\n",
       ":   0.19661566092457\n",
       "\n"
      ],
      "text/plain": [
       "ErrCV.LDA ErrCV.SVM \n",
       "0.1404690 0.1966157 "
      ]
     },
     "metadata": {},
     "output_type": "display_data"
    },
    {
     "data": {
      "text/html": [
       "<style>\n",
       ".dl-inline {width: auto; margin:0; padding: 0}\n",
       ".dl-inline>dt, .dl-inline>dd {float: none; width: auto; display: inline-block}\n",
       ".dl-inline>dt::after {content: \":\\0020\"; padding-right: .5ex}\n",
       ".dl-inline>dt:not(:first-of-type) {padding-left: .5ex}\n",
       "</style><dl class=dl-inline><dt>ErrCV.LDA</dt><dd>0.02</dd><dt>ErrCV.SVM</dt><dd>0.04</dd></dl>\n"
      ],
      "text/latex": [
       "\\begin{description*}\n",
       "\\item[ErrCV.LDA] 0.02\n",
       "\\item[ErrCV.SVM] 0.04\n",
       "\\end{description*}\n"
      ],
      "text/markdown": [
       "ErrCV.LDA\n",
       ":   0.02ErrCV.SVM\n",
       ":   0.04\n",
       "\n"
      ],
      "text/plain": [
       "ErrCV.LDA ErrCV.SVM \n",
       "     0.02      0.04 "
      ]
     },
     "metadata": {},
     "output_type": "display_data"
    }
   ],
   "source": [
    "N = nrow(iris)\n",
    "\n",
    "ErrCV.LDA = rep(NA,N)\n",
    "ErrCV.SVM = rep(NA,N)\n",
    "#options(warn=-1)\n",
    "    for (i in 1:nrow(X))\n",
    "    {\n",
    "        # Split between train and validation\n",
    "        train = seq(1,nrow(X))[-i]\n",
    "        f = lda(X[train,],Y[train])\n",
    "\n",
    "        yhat = predict(f,X[-train,])\n",
    "        ErrCV.LDA[i] = sum(yhat$class != Y[-train])/length(yhat$class)        \n",
    "    }\n",
    "\n",
    "    for (i in 1:nrow(X))\n",
    "    {\n",
    "        # Split between train and validation\n",
    "        train = seq(1,nrow(X))[-i]\n",
    "        fs = svm(X[train,],Y[train],type=\"C-classification\",kernel='linear')\n",
    "        yhat = predict(fs,X[-train,])\n",
    "        ErrCV.SVM[i] = sum(yhat != Y[-train])       \n",
    "    }\n",
    "#options(warn=0)   \n",
    "#mean(ErrCV.LDA)\n",
    "#mean(ErrCV.LReg)\n",
    "#mean(ErrCV.kNN)\n",
    "Err = cbind(ErrCV.LDA,ErrCV.SVM)\n",
    "apply(Err,2,sd)\n",
    "colMeans(Err)"
   ]
  },
  {
   "cell_type": "markdown",
   "metadata": {},
   "source": [
    "**LDA is better then SVM**"
   ]
  },
  {
   "cell_type": "code",
   "execution_count": 39,
   "metadata": {},
   "outputs": [
    {
     "data": {
      "text/html": [
       "<style>\n",
       ".dl-inline {width: auto; margin:0; padding: 0}\n",
       ".dl-inline>dt, .dl-inline>dd {float: none; width: auto; display: inline-block}\n",
       ".dl-inline>dt::after {content: \":\\0020\"; padding-right: .5ex}\n",
       ".dl-inline>dt:not(:first-of-type) {padding-left: .5ex}\n",
       "</style><dl class=dl-inline><dt>ErrCV.LDA</dt><dd>0.140469013039037</dd><dt>ErrCV.SVM</dt><dd>0.180106853693033</dd></dl>\n"
      ],
      "text/latex": [
       "\\begin{description*}\n",
       "\\item[ErrCV.LDA] 0.140469013039037\n",
       "\\item[ErrCV.SVM] 0.180106853693033\n",
       "\\end{description*}\n"
      ],
      "text/markdown": [
       "ErrCV.LDA\n",
       ":   0.140469013039037ErrCV.SVM\n",
       ":   0.180106853693033\n",
       "\n"
      ],
      "text/plain": [
       "ErrCV.LDA ErrCV.SVM \n",
       "0.1404690 0.1801069 "
      ]
     },
     "metadata": {},
     "output_type": "display_data"
    },
    {
     "data": {
      "text/html": [
       "<style>\n",
       ".dl-inline {width: auto; margin:0; padding: 0}\n",
       ".dl-inline>dt, .dl-inline>dd {float: none; width: auto; display: inline-block}\n",
       ".dl-inline>dt::after {content: \":\\0020\"; padding-right: .5ex}\n",
       ".dl-inline>dt:not(:first-of-type) {padding-left: .5ex}\n",
       "</style><dl class=dl-inline><dt>ErrCV.LDA</dt><dd>0.02</dd><dt>ErrCV.SVM</dt><dd>0.0333333333333333</dd></dl>\n"
      ],
      "text/latex": [
       "\\begin{description*}\n",
       "\\item[ErrCV.LDA] 0.02\n",
       "\\item[ErrCV.SVM] 0.0333333333333333\n",
       "\\end{description*}\n"
      ],
      "text/markdown": [
       "ErrCV.LDA\n",
       ":   0.02ErrCV.SVM\n",
       ":   0.0333333333333333\n",
       "\n"
      ],
      "text/plain": [
       " ErrCV.LDA  ErrCV.SVM \n",
       "0.02000000 0.03333333 "
      ]
     },
     "metadata": {},
     "output_type": "display_data"
    }
   ],
   "source": [
    "N = nrow(iris)\n",
    "\n",
    "ErrCV.LDA = rep(NA,N)\n",
    "ErrCV.SVM = rep(NA,N)\n",
    "#options(warn=-1)\n",
    "    for (i in 1:nrow(X))\n",
    "    {\n",
    "        # Split between train and validation\n",
    "        train = seq(1,nrow(X))[-i]\n",
    "        f = lda(X[train,],Y[train])\n",
    "\n",
    "        yhat = predict(f,X[-train,])\n",
    "        ErrCV.LDA[i] = sum(yhat$class != Y[-train])/length(yhat$class)        \n",
    "    }\n",
    "\n",
    "    for (i in 1:nrow(X))\n",
    "    {\n",
    "        # Split between train and validation\n",
    "        train = seq(1,nrow(X))[-i]\n",
    "        fs = svm(X[train,],Y[train],type=\"C-classification\",kernel='radial',gamma=0.5)\n",
    "        yhat = predict(fs,X[-train,])\n",
    "        ErrCV.SVM[i] = sum(yhat != Y[-train])       \n",
    "    }\n",
    "#options(warn=0)   \n",
    "#mean(ErrCV.LDA)\n",
    "#mean(ErrCV.LReg)\n",
    "#mean(ErrCV.kNN)\n",
    "Err = cbind(ErrCV.LDA,ErrCV.SVM)\n",
    "apply(Err,2,sd)\n",
    "colMeans(Err)"
   ]
  },
  {
   "cell_type": "code",
   "execution_count": 40,
   "metadata": {},
   "outputs": [
    {
     "data": {
      "text/html": [
       "8"
      ],
      "text/latex": [
       "8"
      ],
      "text/markdown": [
       "8"
      ],
      "text/plain": [
       "[1] 8"
      ]
     },
     "metadata": {},
     "output_type": "display_data"
    },
    {
     "data": {
      "image/png": "[encoded data removed]",
      "text/plain": [
       "plot without title"
      ]
     },
     "metadata": {
      "image/png": {
       "height": 420,
       "width": 420
      },
      "text/plain": {
       "height": 420,
       "width": 420
      }
     },
     "output_type": "display_data"
    }
   ],
   "source": [
    "N = nrow(iris)\n",
    "gammas = c((1:10)/100,0.1+(1:10)/100)\n",
    "ErrCV = matrix(NA,N,length(gammas))\n",
    "\n",
    "for (k in 1:length(gammas)) {\n",
    "    for (i in 1:nrow(X))\n",
    "    {\n",
    "        # Split between train and validation\n",
    "        train = seq(1,nrow(X))[-i]\n",
    "        fs = svm(X[train,],Y[train],type=\"C-classification\",kernel='radial',gamma=gammas[k])\n",
    "        yhat = predict(fs,X[-train,])\n",
    "        ErrCV[i,k] = sum(yhat != Y[-train])\n",
    "    }\n",
    "}\n",
    "plot(gammas,colMeans(ErrCV),type='b')\n",
    "which.min(colMeans(ErrCV))"
   ]
  },
  {
   "cell_type": "markdown",
   "metadata": {},
   "source": [
    "**We find a minimum for gamma : 0.1**"
   ]
  },
  {
   "cell_type": "markdown",
   "metadata": {},
   "source": [
    "We put this gamma = 0.1 in the comparaison with LDA"
   ]
  },
  {
   "cell_type": "code",
   "execution_count": 41,
   "metadata": {},
   "outputs": [
    {
     "data": {
      "text/html": [
       "<style>\n",
       ".dl-inline {width: auto; margin:0; padding: 0}\n",
       ".dl-inline>dt, .dl-inline>dd {float: none; width: auto; display: inline-block}\n",
       ".dl-inline>dt::after {content: \":\\0020\"; padding-right: .5ex}\n",
       ".dl-inline>dt:not(:first-of-type) {padding-left: .5ex}\n",
       "</style><dl class=dl-inline><dt>ErrCV.LDA</dt><dd>0.140469013039037</dd><dt>ErrCV.SVM</dt><dd>0.180106853693033</dd></dl>\n"
      ],
      "text/latex": [
       "\\begin{description*}\n",
       "\\item[ErrCV.LDA] 0.140469013039037\n",
       "\\item[ErrCV.SVM] 0.180106853693033\n",
       "\\end{description*}\n"
      ],
      "text/markdown": [
       "ErrCV.LDA\n",
       ":   0.140469013039037ErrCV.SVM\n",
       ":   0.180106853693033\n",
       "\n"
      ],
      "text/plain": [
       "ErrCV.LDA ErrCV.SVM \n",
       "0.1404690 0.1801069 "
      ]
     },
     "metadata": {},
     "output_type": "display_data"
    },
    {
     "data": {
      "text/html": [
       "<style>\n",
       ".dl-inline {width: auto; margin:0; padding: 0}\n",
       ".dl-inline>dt, .dl-inline>dd {float: none; width: auto; display: inline-block}\n",
       ".dl-inline>dt::after {content: \":\\0020\"; padding-right: .5ex}\n",
       ".dl-inline>dt:not(:first-of-type) {padding-left: .5ex}\n",
       "</style><dl class=dl-inline><dt>ErrCV.LDA</dt><dd>0.02</dd><dt>ErrCV.SVM</dt><dd>0.0333333333333333</dd></dl>\n"
      ],
      "text/latex": [
       "\\begin{description*}\n",
       "\\item[ErrCV.LDA] 0.02\n",
       "\\item[ErrCV.SVM] 0.0333333333333333\n",
       "\\end{description*}\n"
      ],
      "text/markdown": [
       "ErrCV.LDA\n",
       ":   0.02ErrCV.SVM\n",
       ":   0.0333333333333333\n",
       "\n"
      ],
      "text/plain": [
       " ErrCV.LDA  ErrCV.SVM \n",
       "0.02000000 0.03333333 "
      ]
     },
     "metadata": {},
     "output_type": "display_data"
    }
   ],
   "source": [
    "N = nrow(iris)\n",
    "\n",
    "ErrCV.LDA = rep(NA,N)\n",
    "ErrCV.SVM = rep(NA,N)\n",
    "#options(warn=-1)\n",
    "    for (i in 1:nrow(X))\n",
    "    {\n",
    "        # Split between train and validation\n",
    "        train = seq(1,nrow(X))[-i]\n",
    "        f = lda(X[train,],Y[train])\n",
    "\n",
    "        yhat = predict(f,X[-train,])\n",
    "        ErrCV.LDA[i] = sum(yhat$class != Y[-train])/length(yhat$class)        \n",
    "    }\n",
    "\n",
    "    for (i in 1:nrow(X))\n",
    "    {\n",
    "        # Split between train and validation\n",
    "        train = seq(1,nrow(X))[-i]\n",
    "        fs = svm(X[train,],Y[train],type=\"C-classification\",kernel='radial',gamma=0.5)\n",
    "        yhat = predict(fs,X[-train,])\n",
    "        ErrCV.SVM[i] = sum(yhat != Y[-train])       \n",
    "    }\n",
    "#options(warn=0)   \n",
    "#mean(ErrCV.LDA)\n",
    "#mean(ErrCV.LReg)\n",
    "#mean(ErrCV.kNN)\n",
    "Err = cbind(ErrCV.LDA,ErrCV.SVM)\n",
    "apply(Err,2,sd)\n",
    "colMeans(Err)"
   ]
  },
  {
   "cell_type": "markdown",
   "metadata": {},
   "source": [
    "**LDA is still better then SVM even with RBF**"
   ]
  },
  {
   "cell_type": "markdown",
   "metadata": {},
   "source": [
    "# Comparison of KNN , LDA, QDA, SVM on the wine dataset"
   ]
  },
  {
   "cell_type": "code",
   "execution_count": 42,
   "metadata": {
    "scrolled": true
   },
   "outputs": [],
   "source": [
    "data(wine27)"
   ]
  },
  {
   "cell_type": "markdown",
   "metadata": {},
   "source": [
    "### Best model for KNN"
   ]
  },
  {
   "cell_type": "code",
   "execution_count": 43,
   "metadata": {},
   "outputs": [
    {
     "data": {
      "text/html": [
       "4"
      ],
      "text/latex": [
       "4"
      ],
      "text/markdown": [
       "4"
      ],
      "text/plain": [
       "[1] 4"
      ]
     },
     "metadata": {},
     "output_type": "display_data"
    },
    {
     "data": {
      "image/png": "[encoded data removed]",
      "text/plain": [
       "plot without title"
      ]
     },
     "metadata": {
      "image/png": {
       "height": 420,
       "width": 420
      },
      "text/plain": {
       "height": 420,
       "width": 420
      }
     },
     "output_type": "display_data"
    }
   ],
   "source": [
    "N = nrow(wine27)\n",
    "X=wine27[,1:27]\n",
    "Y=wine27$Type\n",
    "ErrCV = matrix(NA,N,20)\n",
    "for (k in 1:20) {\n",
    "    for (i in 1:nrow(X))\n",
    "    {\n",
    "        # Split between train and validation\n",
    "        train = seq(1,nrow(X))[-i]\n",
    "        out = knn(X[train,],X[-train,],Y[train],k)\n",
    "        ErrCV[i,k] = sum(out != Y[-train])/length(out)\n",
    "    }\n",
    "}\n",
    "plot(colMeans(ErrCV),type='b')\n",
    "which.min(colMeans(ErrCV))"
   ]
  },
  {
   "cell_type": "markdown",
   "metadata": {},
   "source": [
    "**Best K=9**"
   ]
  },
  {
   "cell_type": "markdown",
   "metadata": {},
   "source": [
    "### Best model for SVM"
   ]
  },
  {
   "cell_type": "code",
   "execution_count": 44,
   "metadata": {},
   "outputs": [
    {
     "data": {
      "text/html": [
       "0.042"
      ],
      "text/latex": [
       "0.042"
      ],
      "text/markdown": [
       "0.042"
      ],
      "text/plain": [
       "[1] 0.042"
      ]
     },
     "metadata": {},
     "output_type": "display_data"
    },
    {
     "data": {
      "image/png": "[encoded data removed]",
      "text/plain": [
       "plot without title"
      ]
     },
     "metadata": {
      "image/png": {
       "height": 420,
       "width": 420
      },
      "text/plain": {
       "height": 420,
       "width": 420
      }
     },
     "output_type": "display_data"
    }
   ],
   "source": [
    "N = nrow(wine27)\n",
    "X=wine27[,1:27]\n",
    "Y=wine27$Type\n",
    "gammas = c(0.03+(1:20)/500)\n",
    "ErrCV = matrix(NA,N,length(gammas))\n",
    "\n",
    "for (k in 1:length(gammas)) {\n",
    "    for (i in 1:nrow(X))\n",
    "    {\n",
    "        # Split between train and validation\n",
    "        train = seq(1,nrow(X))[-i]\n",
    "        fs = svm(X[train,],Y[train],type=\"C-classification\",kernel='radial',gamma=gammas[k])\n",
    "        yhat = predict(fs,X[-train,])\n",
    "        ErrCV[i,k] = sum(yhat != Y[-train])\n",
    "    }\n",
    "}\n",
    "plot(gammas,colMeans(ErrCV),type='b')\n",
    "gammas[which.min(colMeans(ErrCV))]"
   ]
  },
  {
   "cell_type": "markdown",
   "metadata": {},
   "source": [
    "**Gamma=0.05 is the best value**\n",
    "\n",
    "We can now compare the four methods"
   ]
  },
  {
   "cell_type": "code",
   "execution_count": 45,
   "metadata": {},
   "outputs": [
    {
     "data": {
      "text/html": [
       "<style>\n",
       ".dl-inline {width: auto; margin:0; padding: 0}\n",
       ".dl-inline>dt, .dl-inline>dd {float: none; width: auto; display: inline-block}\n",
       ".dl-inline>dt::after {content: \":\\0020\"; padding-right: .5ex}\n",
       ".dl-inline>dt:not(:first-of-type) {padding-left: .5ex}\n",
       "</style><dl class=dl-inline><dt>ErrCV.KNN</dt><dd>0.38031449664559</dd><dt>ErrCV.LDA</dt><dd>0.105699929442318</dd><dt>ErrCV.QDA</dt><dd>0.180985263453982</dd><dt>ErrCV.SVM</dt><dd>0.129087151444531</dd></dl>\n"
      ],
      "text/latex": [
       "\\begin{description*}\n",
       "\\item[ErrCV.KNN] 0.38031449664559\n",
       "\\item[ErrCV.LDA] 0.105699929442318\n",
       "\\item[ErrCV.QDA] 0.180985263453982\n",
       "\\item[ErrCV.SVM] 0.129087151444531\n",
       "\\end{description*}\n"
      ],
      "text/markdown": [
       "ErrCV.KNN\n",
       ":   0.38031449664559ErrCV.LDA\n",
       ":   0.105699929442318ErrCV.QDA\n",
       ":   0.180985263453982ErrCV.SVM\n",
       ":   0.129087151444531\n",
       "\n"
      ],
      "text/plain": [
       "ErrCV.KNN ErrCV.LDA ErrCV.QDA ErrCV.SVM \n",
       "0.3803145 0.1056999 0.1809853 0.1290872 "
      ]
     },
     "metadata": {},
     "output_type": "display_data"
    },
    {
     "data": {
      "text/html": [
       "<style>\n",
       ".dl-inline {width: auto; margin:0; padding: 0}\n",
       ".dl-inline>dt, .dl-inline>dd {float: none; width: auto; display: inline-block}\n",
       ".dl-inline>dt::after {content: \":\\0020\"; padding-right: .5ex}\n",
       ".dl-inline>dt:not(:first-of-type) {padding-left: .5ex}\n",
       "</style><dl class=dl-inline><dt>ErrCV.KNN</dt><dd>0.174157303370787</dd><dt>ErrCV.LDA</dt><dd>0.0112359550561798</dd><dt>ErrCV.QDA</dt><dd>0.0337078651685393</dd><dt>ErrCV.SVM</dt><dd>0.0168539325842697</dd></dl>\n"
      ],
      "text/latex": [
       "\\begin{description*}\n",
       "\\item[ErrCV.KNN] 0.174157303370787\n",
       "\\item[ErrCV.LDA] 0.0112359550561798\n",
       "\\item[ErrCV.QDA] 0.0337078651685393\n",
       "\\item[ErrCV.SVM] 0.0168539325842697\n",
       "\\end{description*}\n"
      ],
      "text/markdown": [
       "ErrCV.KNN\n",
       ":   0.174157303370787ErrCV.LDA\n",
       ":   0.0112359550561798ErrCV.QDA\n",
       ":   0.0337078651685393ErrCV.SVM\n",
       ":   0.0168539325842697\n",
       "\n"
      ],
      "text/plain": [
       " ErrCV.KNN  ErrCV.LDA  ErrCV.QDA  ErrCV.SVM \n",
       "0.17415730 0.01123596 0.03370787 0.01685393 "
      ]
     },
     "metadata": {},
     "output_type": "display_data"
    }
   ],
   "source": [
    "N = nrow(wine27)\n",
    "X=wine27[,1:27]\n",
    "Y=wine27$Type\n",
    "ErrCV.KNN = rep(NA,N)\n",
    "ErrCV.LDA = rep(NA,N)\n",
    "ErrCV.QDA = rep(NA,N)\n",
    "ErrCV.SVM = rep(NA,N)\n",
    "#options(warn=-1)\n",
    "    for (i in 1:nrow(X))\n",
    "    {\n",
    "        # Split between train and validation\n",
    "        train = seq(1,nrow(X))[-i]\n",
    "        out = knn(X[train,],X[-train,],Y[train],9)\n",
    "        ErrCV.KNN[i] = sum(out != Y[-train])/length(out)\n",
    "    }\n",
    "\n",
    "    for (i in 1:nrow(X))\n",
    "    {\n",
    "        # Split between train and validation\n",
    "        train = seq(1,nrow(X))[-i]\n",
    "        f = lda(X[train,],Y[train])\n",
    "\n",
    "        yhat = predict(f,X[-train,])\n",
    "        ErrCV.LDA[i] = sum(yhat$class != Y[-train])/length(yhat$class)        \n",
    "    }\n",
    "    for (i in 1:nrow(X))\n",
    "    {\n",
    "        # Split between train and validation\n",
    "        train = seq(1,nrow(X))[-i]\n",
    "        f = qda(X[train,],Y[train])\n",
    "\n",
    "        yhat = predict(f,X[-train,])\n",
    "        ErrCV.QDA[i] = sum(yhat$class != Y[-train])/length(yhat$class)        \n",
    "    }\n",
    "\n",
    "    for (i in 1:nrow(X))\n",
    "    {\n",
    "        # Split between train and validation\n",
    "        train = seq(1,nrow(X))[-i]\n",
    "        fs = svm(X[train,],Y[train],type=\"C-classification\",kernel='radial',gamma=0.05)\n",
    "        yhat = predict(fs,X[-train,])\n",
    "        ErrCV.SVM[i] = sum(yhat != Y[-train])       \n",
    "    }\n",
    "#options(warn=0)   \n",
    "#mean(ErrCV.LDA)\n",
    "#mean(ErrCV.LReg)\n",
    "#mean(ErrCV.kNN)\n",
    "Err = cbind(ErrCV.KNN,ErrCV.LDA,ErrCV.QDA,ErrCV.SVM)\n",
    "apply(Err,2,sd)\n",
    "colMeans(Err)"
   ]
  },
  {
   "cell_type": "markdown",
   "metadata": {},
   "source": [
    "**For this dataset the quality order is :**\n",
    "\n",
    "* 1) LDA\n",
    "* 2) SVM\n",
    "* 3) QDA\n",
    "* 4) KNN"
   ]
  },
  {
   "cell_type": "code",
   "execution_count": 46,
   "metadata": {},
   "outputs": [
    {
     "data": {
      "text/html": [
       "2"
      ],
      "text/latex": [
       "2"
      ],
      "text/markdown": [
       "2"
      ],
      "text/plain": [
       "[1] 2"
      ]
     },
     "metadata": {},
     "output_type": "display_data"
    }
   ],
   "source": [
    "length(predict(f,X[-train,]))"
   ]
  }
 ],
 "metadata": {
  "kernelspec": {
   "display_name": "R",
   "language": "R",
   "name": "ir"
  },
  "language_info": {
   "codemirror_mode": "r",
   "file_extension": ".r",
   "mimetype": "text/x-r-source",
   "name": "R",
   "pygments_lexer": "r",
   "version": "4.0.0"
  }
 },
 "nbformat": 4,
 "nbformat_minor": 4
}
